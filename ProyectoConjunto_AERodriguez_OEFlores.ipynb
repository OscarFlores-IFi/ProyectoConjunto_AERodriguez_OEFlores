{
 "cells": [
  {
   "cell_type": "markdown",
   "metadata": {},
   "source": [
    "# Ana Esmeralda Rodriguez Rodriguez"
   ]
  },
  {
   "cell_type": "markdown",
   "metadata": {},
   "source": [
    "Expectativas del curso: Aprender a utilizar las herramientas de programacion y matemáticas juntas para el analisis de las finanzas, desarrollar lógica ante problemas resolviendolos por medio de la programación."
   ]
  },
  {
   "cell_type": "markdown",
   "metadata": {},
   "source": [
    "# Oscar Eduardo Flores Hernandez"
   ]
  },
  {
   "cell_type": "markdown",
   "metadata": {},
   "source": [
    "Expectativas del curso:\n",
    "En este curso espero tener las herramientas necesarias para poder simular escenarios financieros distintos y obtener información suficiente para una toma de decisiones estadísticamente acertada sin comprometer demasiado el costo de la simulación. "
   ]
  },
  {
   "cell_type": "markdown",
   "metadata": {},
   "source": [
    "### Figura 1:"
   ]
  },
  {
   "cell_type": "markdown",
   "metadata": {},
   "source": [
    "| $$i$$\t| $$x$$ \t| $$f(x)$$ \t|\n",
    "|:-:\t|:-:\t|:-:\t|\n",
    "| $$0$$<br><font color='red'>$$1$$</font><br><font color='blue'>$$2$$</font><br><font color='red'>$$3$$</font><br>$$4$$ \t| $$-1$$<br><font color='red'>$$-0.5$$</font><br><font color='blue'>$$0$$</font><br><font color='red'>$$0.5$$</font><br>$$1$$ \t| $$0.3678$$<br><font color='red'>$$0.7788$$</font><br><font color='blue'>$$1$$</font><br><font color='red'>$$0.7788$$</font><br>$$0.3678$$ \t|\n",
    "\n",
    "$$Cuadro      1: Tabla de valores de f(x)$$\n"
   ]
  },
  {
   "cell_type": "markdown",
   "metadata": {},
   "source": [
    "### Figura 2:"
   ]
  },
  {
   "cell_type": "markdown",
   "metadata": {},

   "source": [
    "$$ \\int_{-1}^{1} e^{-x^2} dx \\approx \\frac{0,5}{3} [f(-1) + f(1) + 4({\\color{red}{f(-0.5) + f(0.5)}}  + 2 {\\color{blue}{f(0)}}] $$\n",
    "\n",
    "$$ \\approx \\frac{0,5}{3} [0.3678 + 0.3678 + 4({\\color{red}{0.7788 + 0.7788}}  + 2 \\cdot {\\color{blue}{1}}] \\approx 1.4943 $$\n",
    "\n",
    "A modo de verificación, se calculará por software, el valor del área para n = 100, un valor mucho más elevado al que se utilizó anteriormente. Si lo calculado previamente es correcto, se esperaría que sea próximo al valor presentado a continuación para ser una buena aproximación. \n",
    "\n",
    "$$ \\int_{-1}^{1} e^{-x^2} dx \\approx  1.4936 $$"
   ]

  },
  {
   "cell_type": "markdown",
   "metadata": {},
   "source": [
    "### serie de fibonacci "
   ]
  },
  {
   "cell_type": "code",
   "execution_count": 10,
   "metadata": {},
   "outputs": [
    {
     "name": "stdout",
     "output_type": "stream",
     "text": [
      "2\n",
      "3\n",
      "5\n",
      "8\n",
      "13\n",
      "21\n",
      "34\n",
      "55\n",
      "89\n",
      "144\n",
      "233\n",
      "377\n",
      "610\n",
      "987\n",
      "1597\n",
      "2584\n",
      "4181\n",
      "6765\n",
      "10946\n",
      "17711\n",
      "28657\n",
      "46368\n",
      "75025\n",
      "121393\n",
      "196418\n",
      "317811\n",
      "514229\n",
      "832040\n",
      "1346269\n",
      "2178309\n",
      "3524578\n",
      "5702887\n",
      "9227465\n",
      "14930352\n",
      "24157817\n",
      "39088169\n",
      "63245986\n",
      "102334155\n",
      "165580141\n",
      "267914296\n",
      "433494437\n",
      "701408733\n",
      "1134903170\n",
      "1836311903\n",
      "2971215073\n",
      "4807526976\n",
      "7778742049\n",
      "12586269025\n",
      "20365011074\n",
      "32951280099\n",
      "53316291173\n",
      "86267571272\n",
      "139583862445\n",
      "225851433717\n",
      "365435296162\n",
      "591286729879\n",
      "956722026041\n",
      "1548008755920\n",
      "2504730781961\n",
      "4052739537881\n",
      "6557470319842\n",
      "10610209857723\n",
      "17167680177565\n",
      "27777890035288\n",
      "44945570212853\n",
      "72723460248141\n",
      "117669030460994\n",
      "190392490709135\n",
      "308061521170129\n",
      "498454011879264\n",
      "806515533049393\n",
      "1304969544928657\n",
      "2111485077978050\n",
      "3416454622906707\n",
      "5527939700884757\n",
      "8944394323791464\n",
      "14472334024676221\n",
      "23416728348467685\n",
      "37889062373143906\n",
      "61305790721611591\n",
      "99194853094755497\n",
      "160500643816367088\n",
      "259695496911122585\n",
      "420196140727489673\n",
      "679891637638612258\n",
      "1100087778366101931\n",
      "1779979416004714189\n",
      "2880067194370816120\n",
      "4660046610375530309\n",
      "7540113804746346429\n",
      "12200160415121876738\n",
      "19740274219868223167\n",
      "31940434634990099905\n",
      "51680708854858323072\n",
      "83621143489848422977\n",
      "135301852344706746049\n",
      "218922995834555169026\n",
      "354224848179261915075\n",
      "573147844013817084101\n",
      "927372692193078999176\n"
     ]
    }
   ],
   "source": [
    "i = 1\n",
    "ii = 1\n",
    "for _ in range (100):\n",
    "    ii, i= i, i+ii\n",
    "    print (i)"
   ]
  },
  {
   "cell_type": "markdown",
   "metadata": {},
   "source": [
    "### Números primos"
   ]
  },
  {
   "cell_type": "code",
   "execution_count": 16,
   "metadata": {},
   "outputs": [
    {
     "data": {
      "text/plain": [
       "[0,\n",
       " 1,\n",
       " 2,\n",
       " 3,\n",
       " 5,\n",
       " 7,\n",
       " 11,\n",
       " 13,\n",
       " 17,\n",
       " 19,\n",
       " 23,\n",
       " 29,\n",
       " 31,\n",
       " 37,\n",
       " 41,\n",
       " 43,\n",
       " 47,\n",
       " 53,\n",
       " 59,\n",
       " 61,\n",
       " 67,\n",
       " 71,\n",
       " 73,\n",
       " 79,\n",
       " 83,\n",
       " 89,\n",
       " 97]"
      ]
     },
     "execution_count": 16,
     "metadata": {},
     "output_type": "execute_result"
    }
   ],
   "source": [
    "def is_prime(x):\n",
    "    if x > 1:\n",
    "       for i in range(2,x):\n",
    "           if (x % i) == 0:\n",
    "               return False\n",
    "       else:\n",
    "           return True\n",
    "    else:\n",
    "        return True\n",
    "    \n",
    "def first_prime_numbers(n):\n",
    "    return [i for i in range(n) if is_prime(i)]\n",
    "\n",
    "first_prime_numbers(100)"
   ]
  },
  {
   "cell_type": "code",
   "execution_count": null,
   "metadata": {},
   "outputs": [],
   "source": []
  }
 ],
 "metadata": {
  "kernelspec": {
   "display_name": "Python 3",
   "language": "python",
   "name": "python3"
  },
  "language_info": {
   "codemirror_mode": {
    "name": "ipython",
    "version": 3
   },
   "file_extension": ".py",
   "mimetype": "text/x-python",
   "name": "python",
   "nbconvert_exporter": "python",
   "pygments_lexer": "ipython3",
   "version": "3.8.3"
  }
 },
 "nbformat": 4,
 "nbformat_minor": 2
}
